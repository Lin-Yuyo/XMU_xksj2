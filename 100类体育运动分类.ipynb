{
 "cells": [
  {
   "cell_type": "code",
   "execution_count": 1,
   "metadata": {
    "collapsed": false
   },
   "outputs": [
    {
     "name": "stdout",
     "output_type": "stream",
     "text": [
      "data129148  dataset  readme.json\r\n"
     ]
    }
   ],
   "source": [
    "# 查看当前挂载的数据集目录, 该目录下的变更重启环境后会自动还原\n",
    "# View dataset directory. \n",
    "# This directory will be recovered automatically after resetting environment. \n",
    "!ls /home/aistudio/data"
   ]
  },
  {
   "cell_type": "code",
   "execution_count": 2,
   "metadata": {
    "collapsed": false
   },
   "outputs": [],
   "source": [
    "# 查看工作区文件, 该目录下的变更将会持久保存. 请及时清理不必要的文件, 避免加载过慢.\n",
    "# View personal work directory. \n",
    "# All changes under this directory will be kept even after reset. \n",
    "# Please clean unnecessary files in time to speed up environment loading. \n",
    "!ls /home/aistudio/work"
   ]
  },
  {
   "cell_type": "code",
   "execution_count": 3,
   "metadata": {
    "collapsed": false
   },
   "outputs": [
    {
     "name": "stdout",
     "output_type": "stream",
     "text": [
      "mkdir: cannot create directory ‘/home/aistudio/external-libraries’: File exists\n",
      "Looking in indexes: https://mirror.baidu.com/pypi/simple/, https://mirrors.aliyun.com/pypi/simple/\n",
      "Collecting beautifulsoup4\n",
      "  Downloading https://mirrors.aliyun.com/pypi/packages/b1/fe/e8c672695b37eecc5cbf43e1d0638d88d66ba3a44c4d321c796f4e59167f/beautifulsoup4-4.12.3-py3-none-any.whl (147 kB)\n",
      "\u001b[2K     \u001b[90m━━━━━━━━━━━━━━━━━━━━━━━━━━━━━━━━━━━━━━━\u001b[0m \u001b[32m147.9/147.9 kB\u001b[0m \u001b[31m3.8 MB/s\u001b[0m eta \u001b[36m0:00:00\u001b[0ma \u001b[36m0:00:01\u001b[0m\n",
      "\u001b[?25hCollecting soupsieve>1.2\n",
      "  Downloading https://mirrors.aliyun.com/pypi/packages/49/37/673d6490efc51ec46d198c75903d99de59baffdd47aea3d071b80a9e4e89/soupsieve-2.4.1-py3-none-any.whl (36 kB)\n",
      "Installing collected packages: soupsieve, beautifulsoup4\n",
      "Successfully installed beautifulsoup4-4.12.3 soupsieve-2.4.1\n",
      "\u001b[33mWARNING: Target directory /home/aistudio/external-libraries/soupsieve-2.4.1.dist-info already exists. Specify --upgrade to force replacement.\u001b[0m\u001b[33m\n",
      "\u001b[0m\u001b[33mWARNING: Target directory /home/aistudio/external-libraries/beautifulsoup4-4.12.3.dist-info already exists. Specify --upgrade to force replacement.\u001b[0m\u001b[33m\n",
      "\u001b[0m\u001b[33mWARNING: Target directory /home/aistudio/external-libraries/soupsieve already exists. Specify --upgrade to force replacement.\u001b[0m\u001b[33m\n",
      "\u001b[0m\u001b[33mWARNING: Target directory /home/aistudio/external-libraries/bs4 already exists. Specify --upgrade to force replacement.\u001b[0m\u001b[33m\n",
      "\u001b[0m\n",
      "\u001b[1m[\u001b[0m\u001b[34;49mnotice\u001b[0m\u001b[1;39;49m]\u001b[0m\u001b[39;49m A new release of pip available: \u001b[0m\u001b[31;49m22.1.2\u001b[0m\u001b[39;49m -> \u001b[0m\u001b[32;49m24.0\u001b[0m\n",
      "\u001b[1m[\u001b[0m\u001b[34;49mnotice\u001b[0m\u001b[1;39;49m]\u001b[0m\u001b[39;49m To update, run: \u001b[0m\u001b[32;49mpip install --upgrade pip\u001b[0m\n"
     ]
    }
   ],
   "source": [
    "# 如果需要进行持久化安装, 需要使用持久化路径, 如下方代码示例:\n",
    "# If a persistence installation is required, \n",
    "# you need to use the persistence path as the following: \n",
    "!mkdir /home/aistudio/external-libraries\n",
    "!pip install beautifulsoup4 -t /home/aistudio/external-libraries"
   ]
  },
  {
   "cell_type": "code",
   "execution_count": 4,
   "metadata": {
    "collapsed": false
   },
   "outputs": [],
   "source": [
    "# 同时添加如下代码, 这样每次环境(kernel)启动的时候只要运行下方代码即可: \n",
    "# Also add the following code, \n",
    "# so that every time the environment (kernel) starts, \n",
    "# just run the following code: \n",
    "import sys \n",
    "sys.path.append('/home/aistudio/external-libraries')"
   ]
  },
  {
   "cell_type": "markdown",
   "metadata": {
    "collapsed": false
   },
   "source": [
    "请点击[此处](https://ai.baidu.com/docs#/AIStudio_Project_Notebook/a38e5576)查看本环境基本用法.  <br>\n",
    "Please click [here ](https://ai.baidu.com/docs#/AIStudio_Project_Notebook/a38e5576) for more detailed instructions. "
   ]
  },
  {
   "cell_type": "code",
   "execution_count": 5,
   "metadata": {
    "collapsed": false
   },
   "outputs": [
    {
     "name": "stderr",
     "output_type": "stream",
     "text": [
      "/opt/conda/envs/python35-paddle120-env/lib/python3.7/site-packages/matplotlib/__init__.py:107: DeprecationWarning: Using or importing the ABCs from 'collections' instead of from 'collections.abc' is deprecated, and in 3.8 it will stop working\n",
      "  from collections import MutableMapping\n",
      "/opt/conda/envs/python35-paddle120-env/lib/python3.7/site-packages/matplotlib/rcsetup.py:20: DeprecationWarning: Using or importing the ABCs from 'collections' instead of from 'collections.abc' is deprecated, and in 3.8 it will stop working\n",
      "  from collections import Iterable, Mapping\n",
      "/opt/conda/envs/python35-paddle120-env/lib/python3.7/site-packages/matplotlib/colors.py:53: DeprecationWarning: Using or importing the ABCs from 'collections' instead of from 'collections.abc' is deprecated, and in 3.8 it will stop working\n",
      "  from collections import Sized\n"
     ]
    }
   ],
   "source": [
    "#导入需要的包\r\n",
    "import os\r\n",
    "import zipfile\r\n",
    "import random\r\n",
    "import json\r\n",
    "import cv2\r\n",
    "import numpy as np\r\n",
    "from PIL import Image\r\n",
    "import paddle\r\n",
    "import matplotlib.pyplot as plt\r\n",
    "from paddle.io import Dataset\r\n"
   ]
  },
  {
   "cell_type": "code",
   "execution_count": 6,
   "metadata": {
    "collapsed": false
   },
   "outputs": [],
   "source": [
    "'''\r\n",
    "参数配置\r\n",
    "'''\r\n",
    "train_parameters = {\r\n",
    "    \"input_size\": [16,224,224],                           #输入图片的shape\r\n",
    "    \"class_dim\": -1,                                     #分类数\r\n",
    "    \"src_path\":\"data/data129148/sports-classification.zip\",       #原始数据集路径\r\n",
    "    \"target_path\":\"/home/aistudio/data/dataset\",        #要解压的路径 \r\n",
    "    \"train_list_path\": \"./train.txt\",              #train_data.txt路径\r\n",
    "    \"eval_list_path\": \"./eval.txt\",                  #eval_data.txt路径\r\n",
    "    \"label_list_path\": \"./label.txt\",                  #eval_data.txt路径\r\n",
    "    \"label_dict\":{},                                    #标签字典\r\n",
    "    \"readme_path\": \"/home/aistudio/data/readme.json\",   #readme.json路径\r\n",
    "    \"num_epochs\": 40,                                    #训练轮数\r\n",
    "    \"train_batch_size\": 16,                             #批次的大小\r\n",
    "    \"learning_strategy\": {                              #优化函数相关的配置\r\n",
    "        \"lr\": 0.001                                     #超参数学习率\r\n",
    "    } \r\n",
    "}\r\n",
    "\r\n",
    "\r\n"
   ]
  },
  {
   "cell_type": "code",
   "execution_count": 7,
   "metadata": {
    "collapsed": false
   },
   "outputs": [],
   "source": [
    "def unzip_data(src_path,target_path):\r\n",
    "\r\n",
    "    '''\r\n",
    "    解压原始数据集，将src_path路径下的zip包解压至data/dataset目录下\r\n",
    "    '''\r\n",
    "\r\n",
    "    if(not os.path.isdir(target_path)):    \r\n",
    "        z = zipfile.ZipFile(src_path, 'r')\r\n",
    "        z.extractall(path=target_path)\r\n",
    "        z.close()\r\n",
    "    else:\r\n",
    "        print(\"文件已解压\")\r\n",
    "\r\n"
   ]
  },
  {
   "cell_type": "code",
   "execution_count": 8,
   "metadata": {
    "collapsed": false
   },
   "outputs": [],
   "source": [
    "def get_data_list(target_path,train_list_path,eval_list_path,label_list_path):\r\n",
    "    '''\r\n",
    "    生成数据列表\r\n",
    "    '''\r\n",
    "    #存放所有类别的信息\r\n",
    "    class_detail = []\r\n",
    "    #获取所有类别保存的文件夹名称\r\n",
    "    data_list_path=target_path\r\n",
    "    roots = os.listdir(data_list_path)\r\n",
    "    if '__MACOSX' in roots:\r\n",
    "        roots.remove('__MACOSX')\r\n",
    "    # #总的图像数量\r\n",
    "    all_class_images = 0\r\n",
    "    # #存放类别标签\r\n",
    "    class_label=0\r\n",
    "    # #存放类别数目\r\n",
    "    class_dim = 0\r\n",
    "    # #存储要写进eval.txt和train.txt中的内容\r\n",
    "    trainer_list=[]\r\n",
    "    eval_list=[]\r\n",
    "    label_list=[]\r\n",
    "    #读取每个类别\r\n",
    "    for root in roots:\r\n",
    "        if root!='train':\r\n",
    "            continue;\r\n",
    "        temp1=os.path.join(data_list_path,root)\r\n",
    "        class_dirs=os.listdir(temp1)\r\n",
    "        for class_dir in class_dirs:\r\n",
    "            if class_dir != \".DS_Store\":\r\n",
    "                while ' ' in class_dir:    #若文件夹名中存在空格\r\n",
    "                    d=class_dir.split(' ')    #以空格作为分隔符\r\n",
    "                    for i in range(len(d)-1):\r\n",
    "                        new_name1=os.path.join(d[i]+\"_\"+d[i+1])\r\n",
    "                    os.rename(os.path.join(temp1,class_dir),os.path.join(temp1,new_name1))  #重命名 \r\n",
    "                    class_dir=new_name1           \r\n",
    "                class_dim += 1\r\n",
    "                #每个类别的信息\r\n",
    "                class_detail_list = {}\r\n",
    "                eval_sum = 0\r\n",
    "                trainer_sum = 0\r\n",
    "                #统计每个类别有多少张图片\r\n",
    "                class_sum = 0\r\n",
    "                #获取类别路径 \r\n",
    "                path = os.path.join(temp1,class_dir)\r\n",
    "                # 获取所有图片\r\n",
    "                img_paths = os.listdir(path)\r\n",
    "                for img_path in img_paths:                                  # 遍历文件夹下的每个图片\r\n",
    "                    if img_path =='.DS_Store':\r\n",
    "                        continue\r\n",
    "                    name_path = os.path.join(path,img_path)                       # 每张图片的路径\r\n",
    "                    if class_sum % 15 == 0:                                 # 每10张图片取一个做验证数据\r\n",
    "                        eval_sum += 1                                       # eval_sum为测试数据的数目\r\n",
    "                        eval_list.append(name_path + \"\\t%d\" % class_label + \"\\n\")\r\n",
    "                    else:\r\n",
    "                        trainer_sum += 1 \r\n",
    "                        trainer_list.append(name_path + \"\\t%d\" % class_label + \"\\n\")#trainer_sum测试数据的数目\r\n",
    "                    class_sum += 1                                          #每类图片的数目\r\n",
    "                    all_class_images += 1                                   #所有类图片的数目         \r\n",
    "                # 说明的json文件的class_detail数据\r\n",
    "                class_detail_list['class_name'] = class_dir             #类别名称\r\n",
    "                class_detail_list['class_label'] = class_label          #类别标签\r\n",
    "                class_detail_list['class_eval_images'] = eval_sum       #该类数据的测试集数目\r\n",
    "                class_detail_list['class_trainer_images'] = trainer_sum #该类数据的训练集数目\r\n",
    "                class_detail.append(class_detail_list)  \r\n",
    "                #初始化标签列表\r\n",
    "                train_parameters['label_dict'][str(class_label)] = class_dir\r\n",
    "                #label_dict字典中，类别标签为class_\r\n",
    "                class_label += 1\r\n",
    "                label_list.append(class_dir+\"\\n\")\r\n",
    "            \r\n",
    "            \r\n",
    "    #初始化分类数\r\n",
    "    train_parameters['class_dim'] = class_dim\r\n",
    "    print(train_parameters)\r\n",
    "    #乱序  \r\n",
    "    random.shuffle(eval_list)\r\n",
    "    with open(eval_list_path, 'a') as f:\r\n",
    "        for eval_image in eval_list:\r\n",
    "            f.write(eval_image) \r\n",
    "    #乱序        \r\n",
    "    random.shuffle(trainer_list) \r\n",
    "    with open(train_list_path, 'a') as f2:\r\n",
    "        for train_image in trainer_list:\r\n",
    "            f2.write(train_image) \r\n",
    "   \r\n",
    "    with open(label_list_path, 'a') as f2:\r\n",
    "        i=0\r\n",
    "        for image_label in label_list:\r\n",
    "            f2.write('{} {}'.format(i,image_label))\r\n",
    "            i=i+1 \r\n",
    "    # 说明的json文件信息\r\n",
    "    readjson = {}\r\n",
    "    readjson['all_class_name'] = data_list_path                  #文件父目录\r\n",
    "    readjson['all_class_images'] = all_class_images\r\n",
    "    readjson['class_detail'] = class_detail\r\n",
    "    jsons = json.dumps(readjson, sort_keys=True, indent=4, separators=(',', ': '))\r\n",
    "    with open(train_parameters['readme_path'],'w') as f:\r\n",
    "        f.write(jsons)\r\n",
    "    print ('生成数据列表完成！')\r\n"
   ]
  },
  {
   "cell_type": "code",
   "execution_count": 9,
   "metadata": {
    "collapsed": false
   },
   "outputs": [
    {
     "name": "stdout",
     "output_type": "stream",
     "text": [
      "文件已解压\n"
     ]
    }
   ],
   "source": [
    "'''\r\n",
    "参数初始化\r\n",
    "'''\r\n",
    "src_path=train_parameters['src_path']\r\n",
    "target_path=train_parameters['target_path']\r\n",
    "train_list_path=train_parameters['train_list_path']\r\n",
    "eval_list_path=train_parameters['eval_list_path']\r\n",
    "label_list_path=train_parameters['label_list_path']\r\n",
    "batch_size=train_parameters['train_batch_size']\r\n",
    "'''\r\n",
    "解压原始数据到指定路径\r\n",
    "'''\r\n",
    "unzip_data(src_path,target_path)\r\n",
    "\r\n",
    "\r\n"
   ]
  },
  {
   "cell_type": "code",
   "execution_count": 10,
   "metadata": {
    "collapsed": false
   },
   "outputs": [
    {
     "name": "stdout",
     "output_type": "stream",
     "text": [
      "{'input_size': [16, 224, 224], 'class_dim': 100, 'src_path': 'data/data129148/sports-classification.zip', 'target_path': '/home/aistudio/data/dataset', 'train_list_path': './train.txt', 'eval_list_path': './eval.txt', 'label_list_path': './label.txt', 'label_dict': {'0': 'jousting', '1': 'ice_climbing', '2': 'hurdles', '3': 'arm_wrestling', '4': 'air_hockey', '5': 'boxing', '6': 'hang_gliding', '7': 'polo', '8': 'balance_beam', '9': 'cheerleading', '10': 'water_polo', '11': 'gaga', '12': 'field_hockey', '13': 'javelin', '14': 'basketball', '15': 'pole_climbing', '16': 'barell_racing', '17': 'motorcycle_racing', '18': 'cricket', '19': 'baton_twirling', '20': 'hammer_throw', '21': 'bull_riding', '22': 'horse_racing', '23': 'fencing', '24': 'table_tennis', '25': 'sumo_wrestling', '26': 'tennis', '27': 'water_cycling', '28': 'shot_put', '29': 'olympic_wrestling', '30': 'wheelchair_basketball', '31': 'high_jump', '32': 'weightlifting', '33': 'golf', '34': 'parallel_bar', '35': 'curling', '36': 'snow_boarding', '37': 'baseball', '38': 'croquet', '39': 'track_bicycle', '40': 'uneven_bars', '41': 'bmx', '42': 'horse_jumping', '43': 'hockey', '44': 'hydroplane_racing', '45': 'lacrosse', '46': 'log_rolling', '47': 'surfing', '48': 'disc_golf', '49': 'figure_skating_women', '50': 'snowmobile_racing', '51': 'axe_throwing', '52': 'bungee_jumping', '53': 'swimming', '54': 'archery', '55': 'fly_fishing', '56': 'volleyball', '57': 'skydiving', '58': 'ice_yachting', '59': 'speed_skating', '60': 'giant_slalom', '61': 'wheelchair_racing', '62': 'bowling', '63': 'canoe_slamon', '64': 'shuffleboard', '65': 'horseshoe_pitching', '66': 'figure_skating_pairs', '67': 'pole_dancing', '68': 'rowing', '69': 'billiards', '70': 'rock_climbing', '71': 'sky_surfing', '72': 'football', '73': 'roller_derby', '74': 'figure_skating_men', '75': 'wingsuit_flying', '76': 'pommel_horse', '77': 'steer_wrestling', '78': 'mushing', '79': 'jai_alai', '80': 'trapeze', '81': 'frisbee', '82': 'luge', '83': 'ultimate', '84': 'rollerblade_racing', '85': 'ski_jumping', '86': 'rings', '87': 'tug_of_war', '88': 'chuckwagon_racing', '89': 'rugby', '90': 'bike_polo', '91': 'ampute_football', '92': 'pole_vault', '93': 'sailboat_racing', '94': 'bobsled', '95': 'formula_1_racing', '96': 'judo', '97': 'nascar_racing', '98': 'harness_racing', '99': 'sidecar_racing'}, 'readme_path': '/home/aistudio/data/readme.json', 'num_epochs': 40, 'train_batch_size': 16, 'learning_strategy': {'lr': 0.001}}\n",
      "生成数据列表完成！\n"
     ]
    }
   ],
   "source": [
    "'''\r\n",
    "划分训练集与验证集，乱序，生成数据列表\r\n",
    "'''\r\n",
    "#每次生成数据列表前，首先清空train.txt和eval.txt\r\n",
    "with open(train_list_path, 'w') as f: \r\n",
    "    f.seek(0)\r\n",
    "    f.truncate() \r\n",
    "with open(eval_list_path, 'w') as f: \r\n",
    "    f.seek(0)\r\n",
    "    f.truncate() \r\n",
    "with open(label_list_path, 'w') as f: \r\n",
    "    f.seek(0)\r\n",
    "    f.truncate()     \r\n",
    "\r\n",
    "target_path='/home/aistudio/data/dataset/sports-classification'\r\n",
    "#生成数据列表   \r\n",
    "get_data_list(target_path,train_list_path,eval_list_path,label_list_path)"
   ]
  },
  {
   "cell_type": "code",
   "execution_count": 11,
   "metadata": {
    "collapsed": false
   },
   "outputs": [
    {
     "name": "stdout",
     "output_type": "stream",
     "text": [
      "Looking in indexes: https://mirror.baidu.com/pypi/simple/, https://mirrors.aliyun.com/pypi/simple/\n",
      "Requirement already satisfied: paddlex==2.0.0 in /opt/conda/envs/python35-paddle120-env/lib/python3.7/site-packages (2.0.0)\n",
      "Requirement already satisfied: tqdm in /opt/conda/envs/python35-paddle120-env/lib/python3.7/site-packages (from paddlex==2.0.0) (4.64.1)\n",
      "Requirement already satisfied: lap in /opt/conda/envs/python35-paddle120-env/lib/python3.7/site-packages (from paddlex==2.0.0) (0.4.0)\n",
      "Requirement already satisfied: chardet in /opt/conda/envs/python35-paddle120-env/lib/python3.7/site-packages (from paddlex==2.0.0) (3.0.4)\n",
      "Requirement already satisfied: pycocotools in /opt/conda/envs/python35-paddle120-env/lib/python3.7/site-packages (from paddlex==2.0.0) (2.0.7)\n",
      "Requirement already satisfied: motmetrics in /opt/conda/envs/python35-paddle120-env/lib/python3.7/site-packages (from paddlex==2.0.0) (1.4.0)\n",
      "Requirement already satisfied: pyyaml in /opt/conda/envs/python35-paddle120-env/lib/python3.7/site-packages (from paddlex==2.0.0) (5.1.2)\n",
      "Requirement already satisfied: scipy in /opt/conda/envs/python35-paddle120-env/lib/python3.7/site-packages (from paddlex==2.0.0) (1.6.3)\n",
      "Requirement already satisfied: paddleslim==2.1.1 in /opt/conda/envs/python35-paddle120-env/lib/python3.7/site-packages (from paddlex==2.0.0) (2.1.1)\n",
      "Requirement already satisfied: scikit-learn==0.23.2 in /opt/conda/envs/python35-paddle120-env/lib/python3.7/site-packages (from paddlex==2.0.0) (0.23.2)\n",
      "Requirement already satisfied: shapely>=1.7.0 in /opt/conda/envs/python35-paddle120-env/lib/python3.7/site-packages (from paddlex==2.0.0) (2.0.0)\n",
      "Requirement already satisfied: visualdl>=2.1.1 in /opt/conda/envs/python35-paddle120-env/lib/python3.7/site-packages (from paddlex==2.0.0) (2.4.0)\n",
      "Requirement already satisfied: opencv-python in /opt/conda/envs/python35-paddle120-env/lib/python3.7/site-packages (from paddlex==2.0.0) (4.6.0.66)\n",
      "Requirement already satisfied: colorama in /opt/conda/envs/python35-paddle120-env/lib/python3.7/site-packages (from paddlex==2.0.0) (0.4.4)\n",
      "Requirement already satisfied: pillow in /opt/conda/envs/python35-paddle120-env/lib/python3.7/site-packages (from paddleslim==2.1.1->paddlex==2.0.0) (8.2.0)\n",
      "Requirement already satisfied: matplotlib in /opt/conda/envs/python35-paddle120-env/lib/python3.7/site-packages (from paddleslim==2.1.1->paddlex==2.0.0) (2.2.3)\n",
      "Requirement already satisfied: pyzmq in /opt/conda/envs/python35-paddle120-env/lib/python3.7/site-packages (from paddleslim==2.1.1->paddlex==2.0.0) (23.2.1)\n",
      "Requirement already satisfied: joblib>=0.11 in /opt/conda/envs/python35-paddle120-env/lib/python3.7/site-packages (from scikit-learn==0.23.2->paddlex==2.0.0) (0.14.1)\n",
      "Requirement already satisfied: numpy>=1.13.3 in /opt/conda/envs/python35-paddle120-env/lib/python3.7/site-packages (from scikit-learn==0.23.2->paddlex==2.0.0) (1.19.5)\n",
      "Requirement already satisfied: threadpoolctl>=2.0.0 in /opt/conda/envs/python35-paddle120-env/lib/python3.7/site-packages (from scikit-learn==0.23.2->paddlex==2.0.0) (2.1.0)\n",
      "Requirement already satisfied: requests in /opt/conda/envs/python35-paddle120-env/lib/python3.7/site-packages (from visualdl>=2.1.1->paddlex==2.0.0) (2.24.0)\n",
      "Requirement already satisfied: pandas in /opt/conda/envs/python35-paddle120-env/lib/python3.7/site-packages (from visualdl>=2.1.1->paddlex==2.0.0) (1.1.5)\n",
      "Requirement already satisfied: protobuf>=3.11.0 in /opt/conda/envs/python35-paddle120-env/lib/python3.7/site-packages (from visualdl>=2.1.1->paddlex==2.0.0) (3.20.0)\n",
      "Requirement already satisfied: flask>=1.1.1 in /opt/conda/envs/python35-paddle120-env/lib/python3.7/site-packages (from visualdl>=2.1.1->paddlex==2.0.0) (1.1.1)\n",
      "Requirement already satisfied: bce-python-sdk in /opt/conda/envs/python35-paddle120-env/lib/python3.7/site-packages (from visualdl>=2.1.1->paddlex==2.0.0) (0.8.53)\n",
      "Requirement already satisfied: six>=1.14.0 in /opt/conda/envs/python35-paddle120-env/lib/python3.7/site-packages (from visualdl>=2.1.1->paddlex==2.0.0) (1.16.0)\n",
      "Requirement already satisfied: Flask-Babel>=1.0.0 in /opt/conda/envs/python35-paddle120-env/lib/python3.7/site-packages (from visualdl>=2.1.1->paddlex==2.0.0) (1.0.0)\n",
      "Requirement already satisfied: xmltodict>=0.12.0 in /opt/conda/envs/python35-paddle120-env/lib/python3.7/site-packages (from motmetrics->paddlex==2.0.0) (0.13.0)\n",
      "Requirement already satisfied: Jinja2>=2.10.1 in /opt/conda/envs/python35-paddle120-env/lib/python3.7/site-packages (from flask>=1.1.1->visualdl>=2.1.1->paddlex==2.0.0) (3.0.0)\n",
      "Requirement already satisfied: click>=5.1 in /opt/conda/envs/python35-paddle120-env/lib/python3.7/site-packages (from flask>=1.1.1->visualdl>=2.1.1->paddlex==2.0.0) (8.0.4)\n",
      "Requirement already satisfied: itsdangerous>=0.24 in /opt/conda/envs/python35-paddle120-env/lib/python3.7/site-packages (from flask>=1.1.1->visualdl>=2.1.1->paddlex==2.0.0) (1.1.0)\n",
      "Requirement already satisfied: Werkzeug>=0.15 in /opt/conda/envs/python35-paddle120-env/lib/python3.7/site-packages (from flask>=1.1.1->visualdl>=2.1.1->paddlex==2.0.0) (0.16.0)\n",
      "Requirement already satisfied: pytz in /opt/conda/envs/python35-paddle120-env/lib/python3.7/site-packages (from Flask-Babel>=1.0.0->visualdl>=2.1.1->paddlex==2.0.0) (2019.3)\n",
      "Requirement already satisfied: Babel>=2.3 in /opt/conda/envs/python35-paddle120-env/lib/python3.7/site-packages (from Flask-Babel>=1.0.0->visualdl>=2.1.1->paddlex==2.0.0) (2.8.0)\n",
      "Requirement already satisfied: kiwisolver>=1.0.1 in /opt/conda/envs/python35-paddle120-env/lib/python3.7/site-packages (from matplotlib->paddleslim==2.1.1->paddlex==2.0.0) (1.1.0)\n",
      "Requirement already satisfied: pyparsing!=2.0.4,!=2.1.2,!=2.1.6,>=2.0.1 in /opt/conda/envs/python35-paddle120-env/lib/python3.7/site-packages (from matplotlib->paddleslim==2.1.1->paddlex==2.0.0) (3.0.9)\n",
      "Requirement already satisfied: cycler>=0.10 in /opt/conda/envs/python35-paddle120-env/lib/python3.7/site-packages (from matplotlib->paddleslim==2.1.1->paddlex==2.0.0) (0.10.0)\n",
      "Requirement already satisfied: python-dateutil>=2.1 in /opt/conda/envs/python35-paddle120-env/lib/python3.7/site-packages (from matplotlib->paddleslim==2.1.1->paddlex==2.0.0) (2.8.2)\n",
      "Requirement already satisfied: pycryptodome>=3.8.0 in /opt/conda/envs/python35-paddle120-env/lib/python3.7/site-packages (from bce-python-sdk->visualdl>=2.1.1->paddlex==2.0.0) (3.9.9)\n",
      "Requirement already satisfied: future>=0.6.0 in /opt/conda/envs/python35-paddle120-env/lib/python3.7/site-packages (from bce-python-sdk->visualdl>=2.1.1->paddlex==2.0.0) (0.18.0)\n",
      "Requirement already satisfied: urllib3!=1.25.0,!=1.25.1,<1.26,>=1.21.1 in /opt/conda/envs/python35-paddle120-env/lib/python3.7/site-packages (from requests->visualdl>=2.1.1->paddlex==2.0.0) (1.25.11)\n",
      "Requirement already satisfied: idna<3,>=2.5 in /opt/conda/envs/python35-paddle120-env/lib/python3.7/site-packages (from requests->visualdl>=2.1.1->paddlex==2.0.0) (2.8)\n",
      "Requirement already satisfied: certifi>=2017.4.17 in /opt/conda/envs/python35-paddle120-env/lib/python3.7/site-packages (from requests->visualdl>=2.1.1->paddlex==2.0.0) (2019.9.11)\n",
      "Requirement already satisfied: importlib-metadata in /opt/conda/envs/python35-paddle120-env/lib/python3.7/site-packages (from click>=5.1->flask>=1.1.1->visualdl>=2.1.1->paddlex==2.0.0) (4.2.0)\n",
      "Requirement already satisfied: MarkupSafe>=2.0.0rc2 in /opt/conda/envs/python35-paddle120-env/lib/python3.7/site-packages (from Jinja2>=2.10.1->flask>=1.1.1->visualdl>=2.1.1->paddlex==2.0.0) (2.0.1)\n",
      "Requirement already satisfied: setuptools in /opt/conda/envs/python35-paddle120-env/lib/python3.7/site-packages (from kiwisolver>=1.0.1->matplotlib->paddleslim==2.1.1->paddlex==2.0.0) (56.2.0)\n",
      "Requirement already satisfied: zipp>=0.5 in /opt/conda/envs/python35-paddle120-env/lib/python3.7/site-packages (from importlib-metadata->click>=5.1->flask>=1.1.1->visualdl>=2.1.1->paddlex==2.0.0) (3.8.1)\n",
      "Requirement already satisfied: typing-extensions>=3.6.4 in /opt/conda/envs/python35-paddle120-env/lib/python3.7/site-packages (from importlib-metadata->click>=5.1->flask>=1.1.1->visualdl>=2.1.1->paddlex==2.0.0) (4.7.1)\n",
      "\n",
      "\u001b[1m[\u001b[0m\u001b[34;49mnotice\u001b[0m\u001b[1;39;49m]\u001b[0m\u001b[39;49m A new release of pip available: \u001b[0m\u001b[31;49m22.1.2\u001b[0m\u001b[39;49m -> \u001b[0m\u001b[32;49m24.0\u001b[0m\n",
      "\u001b[1m[\u001b[0m\u001b[34;49mnotice\u001b[0m\u001b[1;39;49m]\u001b[0m\u001b[39;49m To update, run: \u001b[0m\u001b[32;49mpip install --upgrade pip\u001b[0m\n"
     ]
    }
   ],
   "source": [
    "!pip install paddlex==2.0.0\r\n"
   ]
  },
  {
   "cell_type": "code",
   "execution_count": 12,
   "metadata": {
    "collapsed": false
   },
   "outputs": [
    {
     "name": "stderr",
     "output_type": "stream",
     "text": [
      "/opt/conda/envs/python35-paddle120-env/lib/python3.7/site-packages/paddle/distributed/parallel.py:171: UserWarning: Currently not a parallel execution environment, `paddle.distributed.init_parallel_env` will not do anything.\n",
      "  \"Currently not a parallel execution environment, `paddle.distributed.init_parallel_env` will not do anything.\"\n"
     ]
    },
    {
     "name": "stdout",
     "output_type": "stream",
     "text": [
      "[05-13 22:36:39 MainThread @utils.py:79] WRN paddlepaddle version: 2.4.0. The dynamic graph version of PARL is under development, not fully tested and supported\n"
     ]
    },
    {
     "name": "stderr",
     "output_type": "stream",
     "text": [
      "/opt/conda/envs/python35-paddle120-env/lib/python3.7/site-packages/parl/remote/communication.py:38: FutureWarning: 'pyarrow.default_serialization_context' is deprecated as of 2.0.0 and will be removed in a future version. Use pickle or the pyarrow IPC functionality instead.\n",
      "  context = pyarrow.default_serialization_context()\n",
      "/opt/conda/envs/python35-paddle120-env/lib/python3.7/site-packages/paddleslim/common/analyze_helper.py:22: UserWarning: \n",
      "This call to matplotlib.use() has no effect because the backend has already\n",
      "been chosen; matplotlib.use() must be called *before* pylab, matplotlib.pyplot,\n",
      "or matplotlib.backends is imported for the first time.\n",
      "\n",
      "The backend was *originally* set to 'module://matplotlib_inline.backend_inline' by the following code:\n",
      "  File \"/opt/conda/envs/python35-paddle120-env/lib/python3.7/runpy.py\", line 193, in _run_module_as_main\n",
      "    \"__main__\", mod_spec)\n",
      "  File \"/opt/conda/envs/python35-paddle120-env/lib/python3.7/runpy.py\", line 85, in _run_code\n",
      "    exec(code, run_globals)\n",
      "  File \"/opt/conda/envs/python35-paddle120-env/lib/python3.7/site-packages/ipykernel_launcher.py\", line 16, in <module>\n",
      "    app.launch_new_instance()\n",
      "  File \"/opt/conda/envs/python35-paddle120-env/lib/python3.7/site-packages/traitlets/config/application.py\", line 978, in launch_instance\n",
      "    app.start()\n",
      "  File \"/opt/conda/envs/python35-paddle120-env/lib/python3.7/site-packages/ipykernel/kernelapp.py\", line 677, in start\n",
      "    self.io_loop.start()\n",
      "  File \"/opt/conda/envs/python35-paddle120-env/lib/python3.7/site-packages/tornado/platform/asyncio.py\", line 215, in start\n",
      "    self.asyncio_loop.run_forever()\n",
      "  File \"/opt/conda/envs/python35-paddle120-env/lib/python3.7/asyncio/base_events.py\", line 534, in run_forever\n",
      "    self._run_once()\n",
      "  File \"/opt/conda/envs/python35-paddle120-env/lib/python3.7/asyncio/base_events.py\", line 1771, in _run_once\n",
      "    handle._run()\n",
      "  File \"/opt/conda/envs/python35-paddle120-env/lib/python3.7/asyncio/events.py\", line 88, in _run\n",
      "    self._context.run(self._callback, *self._args)\n",
      "  File \"/opt/conda/envs/python35-paddle120-env/lib/python3.7/site-packages/ipykernel/kernelbase.py\", line 471, in dispatch_queue\n",
      "    await self.process_one()\n",
      "  File \"/opt/conda/envs/python35-paddle120-env/lib/python3.7/site-packages/ipykernel/kernelbase.py\", line 460, in process_one\n",
      "    await dispatch(*args)\n",
      "  File \"/opt/conda/envs/python35-paddle120-env/lib/python3.7/site-packages/ipykernel/kernelbase.py\", line 367, in dispatch_shell\n",
      "    await result\n",
      "  File \"/opt/conda/envs/python35-paddle120-env/lib/python3.7/site-packages/ipykernel/kernelbase.py\", line 662, in execute_request\n",
      "    reply_content = await reply_content\n",
      "  File \"/opt/conda/envs/python35-paddle120-env/lib/python3.7/site-packages/ipykernel/ipkernel.py\", line 360, in do_execute\n",
      "    res = shell.run_cell(code, store_history=store_history, silent=silent)\n",
      "  File \"/opt/conda/envs/python35-paddle120-env/lib/python3.7/site-packages/ipykernel/zmqshell.py\", line 532, in run_cell\n",
      "    return super().run_cell(*args, **kwargs)\n",
      "  File \"/opt/conda/envs/python35-paddle120-env/lib/python3.7/site-packages/IPython/core/interactiveshell.py\", line 2981, in run_cell\n",
      "    self.events.trigger('post_run_cell', result)\n",
      "  File \"/opt/conda/envs/python35-paddle120-env/lib/python3.7/site-packages/IPython/core/events.py\", line 89, in trigger\n",
      "    func(*args, **kwargs)\n",
      "  File \"/opt/conda/envs/python35-paddle120-env/lib/python3.7/site-packages/matplotlib_inline/backend_inline.py\", line 222, in configure_once\n",
      "    activate_matplotlib(backend)\n",
      "  File \"/opt/conda/envs/python35-paddle120-env/lib/python3.7/site-packages/IPython/core/pylabtools.py\", line 359, in activate_matplotlib\n",
      "    plt.switch_backend(backend)\n",
      "  File \"/opt/conda/envs/python35-paddle120-env/lib/python3.7/site-packages/matplotlib/pyplot.py\", line 231, in switch_backend\n",
      "    matplotlib.use(newbackend, warn=False, force=True)\n",
      "  File \"/opt/conda/envs/python35-paddle120-env/lib/python3.7/site-packages/matplotlib/__init__.py\", line 1422, in use\n",
      "    reload(sys.modules['matplotlib.backends'])\n",
      "  File \"/opt/conda/envs/python35-paddle120-env/lib/python3.7/importlib/__init__.py\", line 169, in reload\n",
      "    _bootstrap._exec(spec, module)\n",
      "  File \"/opt/conda/envs/python35-paddle120-env/lib/python3.7/site-packages/matplotlib/backends/__init__.py\", line 16, in <module>\n",
      "    line for line in traceback.format_stack()\n",
      "\n",
      "\n",
      "  matplotlib.use('Agg')\n",
      "2024-05-13 22:36:40,418-WARNING: type object 'QuantizationTransformPass' has no attribute '_supported_quantizable_op_type'\n",
      "2024-05-13 22:36:40,420-WARNING: If you want to use training-aware and post-training quantization, please use Paddle >= 1.8.4 or develop version\n"
     ]
    }
   ],
   "source": [
    "import paddlex as pdx\r\n",
    "from paddlex import transforms as T\r\n",
    "train_transforms = T.Compose(\r\n",
    "    [T.RandomCrop(crop_size=224), T.RandomHorizontalFlip(), T.Normalize()])\r\n",
    "\r\n",
    "eval_transforms = T.Compose([\r\n",
    "    T.ResizeByShort(short_size=256), T.CenterCrop(crop_size=224), T.Normalize()\r\n",
    "])\r\n"
   ]
  },
  {
   "cell_type": "code",
   "execution_count": 13,
   "metadata": {
    "collapsed": false
   },
   "outputs": [
    {
     "name": "stdout",
     "output_type": "stream",
     "text": [
      "2024-05-13 22:36:42 [INFO]\tStarting to read file list from dataset...\n",
      "2024-05-13 22:36:42 [INFO]\t12623 samples in file /home/aistudio/train.txt\n",
      "2024-05-13 22:36:42 [INFO]\tStarting to read file list from dataset...\n",
      "2024-05-13 22:36:42 [INFO]\t949 samples in file /home/aistudio/eval.txt\n",
      "2024-05-13 22:36:42 [INFO]\tLoading pretrained model from output/resNet101_vd_ssld/pretrain/ResNet101_vd_ssld_pretrained.pdparams\n"
     ]
    },
    {
     "name": "stderr",
     "output_type": "stream",
     "text": [
      "W0513 22:36:42.382019  1046 gpu_resources.cc:61] Please NOTE: device: 0, GPU Compute Capability: 7.0, Driver API Version: 12.0, Runtime API Version: 11.2\n",
      "W0513 22:36:42.386389  1046 gpu_resources.cc:91] device: 0, cuDNN Version: 8.2.\n"
     ]
    },
    {
     "name": "stdout",
     "output_type": "stream",
     "text": [
      "2024-05-13 22:58:53 [INFO]\tModel saved in output/resNet101_vd_ssld/epoch_15.\r"
     ]
    }
   ],
   "source": [
    "train_dataset = pdx.datasets.ImageNet(\r\n",
    "    data_dir='',\r\n",
    "    file_list='/home/aistudio/train.txt',\r\n",
    "    label_list='/home/aistudio/label.txt',\r\n",
    "    transforms=train_transforms,\r\n",
    "    shuffle=True)\r\n",
    "    \r\n",
    "eval_dataset = pdx.datasets.ImageNet(\r\n",
    "    data_dir='',\r\n",
    "    file_list='/home/aistudio/eval.txt',\r\n",
    "    label_list='/home/aistudio/label.txt',\r\n",
    "    transforms=eval_transforms)\r\n",
    "\r\n",
    "num_classes = len(train_dataset.labels)\r\n",
    "model = pdx.cls.ResNet101_vd_ssld(num_classes=num_classes)\r\n",
    "model.train(num_epochs=15,\r\n",
    "            train_dataset=train_dataset,\r\n",
    "            train_batch_size=16,\r\n",
    "            eval_dataset=eval_dataset,\r\n",
    "            lr_decay_epochs=[6, 8],\r\n",
    "            save_interval_epochs=1,\r\n",
    "            learning_rate=0.001,\r\n",
    "            save_dir='output/resNet101_vd_ssld',\r\n",
    "            use_vdl=True)\r\n"
   ]
  },
  {
   "cell_type": "code",
   "execution_count": 21,
   "metadata": {
    "collapsed": false
   },
   "outputs": [
    {
     "name": "stdout",
     "output_type": "stream",
     "text": [
      "2024-05-13 23:12:02 [INFO]\tModel[ResNet101_vd_ssld] loaded.\n",
      "[{'category_id': 37, 'category': '37 baseball', 'score': 0.99730444}]\n"
     ]
    }
   ],
   "source": [
    "import paddlex as pdx\r\n",
    "model = pdx.load_model('output/resNet101_vd_ssld/best_model')\r\n",
    "image_name = '/home/aistudio/data/dataset/sports-classification/valid/baseball/1.jpg'\r\n",
    "result = model.predict(image_name)\r\n",
    "print(result)"
   ]
  }
 ],
 "metadata": {
  "kernelspec": {
   "display_name": "Python 3",
   "language": "python",
   "name": "py35-paddle1.2.0"
  },
  "language_info": {
   "codemirror_mode": {
    "name": "ipython",
    "version": 3
   },
   "file_extension": ".py",
   "mimetype": "text/x-python",
   "name": "python",
   "nbconvert_exporter": "python",
   "pygments_lexer": "ipython3",
   "version": "3.7.4"
  }
 },
 "nbformat": 4,
 "nbformat_minor": 1
}
